{
 "cells": [
  {
   "cell_type": "markdown",
   "metadata": {
    "id": "IGa-V4sesGjT"
   },
   "source": [
    "# Conformalized quantile regression: A synthetic example (1)\n",
    "\n",
    "This notebook replicates the first synthetic example, provided in [1].\n",
    "\n",
    "In this tutorial we will create synthetic 1-dimensional heteroscedastic data, and compare the usual split conformal prediction [2], its locally weighted variant [3], and the proposed conformalized quantile regression (CQR) [1] alternative. The regression function used in this experiment is random forests.\n",
    "\n",
    "\n",
    "[1] Yaniv Romano, Evan Patterson, and Emmanuel J. Candes, “Conformalized quantile regression.” 2019.\n",
    "\n",
    "[2] Papadopoulos Harris, Kostas Proedrou, Volodya Vovk, and Alex Gammerman. “Inductive confidence machines for regression.” In European Conference on Machine Learning, pp. 345-356. Springer, Berlin, Heidelberg, 2002.\n",
    "\n",
    "[3] Papadopoulos Harris, Alex Gammerman, and Volodya Vovk. “Normalized nonconformity measures for regression conformal prediction.” In Proceedings of the IASTED International Conference on Artificial Intelligence and Applications, pp. 64-69. 2008.\n",
    "\n",
    "\n",
    "\n",
    "## Prediction intervals\n",
    "\n",
    "Suppose we are given $ n $ training samples $ \\{(X_i, Y_i)\\}_{i=1}^n$ and we must now predict the unknown value of $Y_{n+1}$ at a test point $X_{n+1}$. We assume that all the samples $ \\{(X_i,Y_i)\\}_{i=1}^{n+1} $ are drawn exchangeably$-$for instance, they may be drawn i.i.d.$-$from an arbitrary joint distribution $P_{XY}$ over the feature vectors $ X\\in \\mathbb{R}^p $ and response variables $ Y\\in \\mathbb{R} $. We aim to construct a marginal distribution-free prediction interval $C(X_{n+1}) \\subseteq \\mathbb{R}$ that is likely to contain the unknown response $Y_{n+1} $. That is, given a desired miscoverage rate $ \\alpha $, we ask that\n",
    "$$ \\mathbb{P}\\{Y_{n+1} \\in C(X_{n+1})\\} \\geq 1-\\alpha $$\n",
    "for any joint distribution $ P_{XY} $ and any sample size $n$. The probability in this statement is marginal, being taken over all the samples $ \\{(X_i, Y_i)\\}_{i=1}^{n+1} $.\n"
   ]
  },
  {
   "cell_type": "code",
   "execution_count": null,
   "metadata": {
    "colab": {
     "base_uri": "https://localhost:8080/"
    },
    "id": "Z5IVJ9UeRCww",
    "outputId": "f0e6de60-3425-49d1-f53b-50b75f818390"
   },
   "outputs": [
    {
     "name": "stdout",
     "output_type": "stream",
     "text": [
      "Collecting scikit-garden\n",
      "\u001b[?25l  Downloading https://files.pythonhosted.org/packages/63/0f/850592f6e8619d42086cdcc6a1731a4254f74db09878a155ab3d4cdc55ef/scikit-garden-0.1.3.tar.gz (317kB)\n",
      "\r",
      "\u001b[K     |█                               | 10kB 17.6MB/s eta 0:00:01\r",
      "\u001b[K     |██                              | 20kB 22.7MB/s eta 0:00:01\r",
      "\u001b[K     |███                             | 30kB 10.8MB/s eta 0:00:01\r",
      "\u001b[K     |████▏                           | 40kB 8.0MB/s eta 0:00:01\r",
      "\u001b[K     |█████▏                          | 51kB 4.5MB/s eta 0:00:01\r",
      "\u001b[K     |██████▏                         | 61kB 4.3MB/s eta 0:00:01\r",
      "\u001b[K     |███████▎                        | 71kB 4.8MB/s eta 0:00:01\r",
      "\u001b[K     |████████▎                       | 81kB 5.1MB/s eta 0:00:01\r",
      "\u001b[K     |█████████▎                      | 92kB 5.2MB/s eta 0:00:01\r",
      "\u001b[K     |██████████▎                     | 102kB 5.5MB/s eta 0:00:01\r",
      "\u001b[K     |███████████▍                    | 112kB 5.5MB/s eta 0:00:01\r",
      "\u001b[K     |████████████▍                   | 122kB 5.5MB/s eta 0:00:01\r",
      "\u001b[K     |█████████████▍                  | 133kB 5.5MB/s eta 0:00:01\r",
      "\u001b[K     |██████████████▌                 | 143kB 5.5MB/s eta 0:00:01\r",
      "\u001b[K     |███████████████▌                | 153kB 5.5MB/s eta 0:00:01\r",
      "\u001b[K     |████████████████▌               | 163kB 5.5MB/s eta 0:00:01\r",
      "\u001b[K     |█████████████████▋              | 174kB 5.5MB/s eta 0:00:01\r",
      "\u001b[K     |██████████████████▋             | 184kB 5.5MB/s eta 0:00:01\r",
      "\u001b[K     |███████████████████▋            | 194kB 5.5MB/s eta 0:00:01\r",
      "\u001b[K     |████████████████████▋           | 204kB 5.5MB/s eta 0:00:01\r",
      "\u001b[K     |█████████████████████▊          | 215kB 5.5MB/s eta 0:00:01\r",
      "\u001b[K     |██████████████████████▊         | 225kB 5.5MB/s eta 0:00:01\r",
      "\u001b[K     |███████████████████████▊        | 235kB 5.5MB/s eta 0:00:01\r",
      "\u001b[K     |████████████████████████▉       | 245kB 5.5MB/s eta 0:00:01\r",
      "\u001b[K     |█████████████████████████▉      | 256kB 5.5MB/s eta 0:00:01\r",
      "\u001b[K     |██████████████████████████▉     | 266kB 5.5MB/s eta 0:00:01\r",
      "\u001b[K     |████████████████████████████    | 276kB 5.5MB/s eta 0:00:01\r",
      "\u001b[K     |█████████████████████████████   | 286kB 5.5MB/s eta 0:00:01\r",
      "\u001b[K     |██████████████████████████████  | 296kB 5.5MB/s eta 0:00:01\r",
      "\u001b[K     |███████████████████████████████ | 307kB 5.5MB/s eta 0:00:01\r",
      "\u001b[K     |████████████████████████████████| 317kB 5.5MB/s \n",
      "\u001b[?25hRequirement already satisfied: numpy in /usr/local/lib/python3.6/dist-packages (from scikit-garden) (1.18.5)\n",
      "Requirement already satisfied: scipy in /usr/local/lib/python3.6/dist-packages (from scikit-garden) (1.4.1)\n",
      "Requirement already satisfied: scikit-learn>=0.18 in /usr/local/lib/python3.6/dist-packages (from scikit-garden) (0.22.2.post1)\n",
      "Requirement already satisfied: cython in /usr/local/lib/python3.6/dist-packages (from scikit-garden) (0.29.21)\n",
      "Requirement already satisfied: joblib>=0.11 in /usr/local/lib/python3.6/dist-packages (from scikit-learn>=0.18->scikit-garden) (0.17.0)\n",
      "Building wheels for collected packages: scikit-garden\n",
      "  Building wheel for scikit-garden (setup.py) ... \u001b[?25l\u001b[?25hdone\n",
      "  Created wheel for scikit-garden: filename=scikit_garden-0.1.3-cp36-cp36m-linux_x86_64.whl size=665189 sha256=4d6adb5963b8e4f9454da97b98f476d49beae3157839bbbf60b4cc1f1aed27a9\n",
      "  Stored in directory: /root/.cache/pip/wheels/d0/ef/71/3a032ba9a2b70690c9f9ec2e383afee6610f509af312ff2cf3\n",
      "Successfully built scikit-garden\n",
      "Installing collected packages: scikit-garden\n",
      "Successfully installed scikit-garden-0.1.3\n"
     ]
    }
   ],
   "source": [
    "!pip install scikit-garden"
   ]
  },
  {
   "cell_type": "code",
   "execution_count": null,
   "metadata": {
    "colab": {
     "base_uri": "https://localhost:8080/"
    },
    "id": "G5IPOKJZ8-7k",
    "outputId": "30042a98-75f0-40f1-ca2e-cdaa8877b6f1"
   },
   "outputs": [
    {
     "name": "stdout",
     "output_type": "stream",
     "text": [
      "Mounted at /content/drive\n"
     ]
    }
   ],
   "source": [
    "from google.colab import drive\n",
    "drive.mount('/content/drive')"
   ]
  },
  {
   "cell_type": "code",
   "execution_count": null,
   "metadata": {
    "id": "lQ_73Km7BmPA"
   },
   "outputs": [],
   "source": [
    "import pandas as pd\n",
    "import numpy as np\n",
    "dataset_path = \"/content/drive/My Drive/cqr/data.csv\"\n",
    "df = pd.read_csv(dataset_path)\n",
    "df.head()\n",
    "\n",
    "del df['first_fatalities']\n",
    "del df['first_confirmed_case']\n",
    "del df['Date']\n",
    "\n",
    "df=df.fillna(0)\n",
    "df=df.fillna(0)\n",
    "\n",
    "data = df.values\n",
    "\n",
    "ix = [ i for i in range ( data.shape[1]) if i != 2]\n",
    "X, y = data [:,ix],data[:,3]"
   ]
  },
  {
   "cell_type": "code",
   "execution_count": null,
   "metadata": {
    "colab": {
     "base_uri": "https://localhost:8080/"
    },
    "id": "gHPFpb4p7xY9",
    "outputId": "3e73f9c3-2473-46a9-9cb8-6dd5d1652640"
   },
   "outputs": [
    {
     "name": "stderr",
     "output_type": "stream",
     "text": [
      "/usr/local/lib/python3.6/dist-packages/sklearn/utils/deprecation.py:144: FutureWarning: The sklearn.ensemble.forest module is  deprecated in version 0.22 and will be removed in version 0.24. The corresponding classes / functions should instead be imported from sklearn.ensemble. Anything that cannot be imported from sklearn.ensemble is now part of the private API.\n",
      "  warnings.warn(message, FutureWarning)\n",
      "/usr/local/lib/python3.6/dist-packages/sklearn/externals/six.py:31: FutureWarning: The module is deprecated in version 0.21 and will be removed in version 0.23 since we've dropped support for Python 2.7. Please rely on the official version of six (https://pypi.org/project/six/).\n",
      "  \"(https://pypi.org/project/six/).\", FutureWarning)\n",
      "/usr/local/lib/python3.6/dist-packages/sklearn/utils/deprecation.py:144: FutureWarning: The sklearn.tree.tree module is  deprecated in version 0.22 and will be removed in version 0.24. The corresponding classes / functions should instead be imported from sklearn.tree. Anything that cannot be imported from sklearn.tree is now part of the private API.\n",
      "  warnings.warn(message, FutureWarning)\n"
     ]
    }
   ],
   "source": [
    "import sys\n",
    "sys.path.insert(1,\"/content/drive/My Drive/cqr\")\n",
    "from cqr import helper"
   ]
  },
  {
   "cell_type": "code",
   "execution_count": null,
   "metadata": {
    "id": "427uvOMB8wHS"
   },
   "outputs": [],
   "source": [
    "from sklearn.model_selection import train_test_split\n",
    "x_train, x_test, y_train, y_test = train_test_split(X,\n",
    "                                                    y,\n",
    "                                                    test_size=0.2,\n",
    "                                                    random_state=1)"
   ]
  },
  {
   "cell_type": "code",
   "execution_count": null,
   "metadata": {
    "id": "cYMLJ-OSsGjT"
   },
   "outputs": [],
   "source": [
    "import warnings\n",
    "warnings.filterwarnings('ignore')\n",
    "\n",
    "import matplotlib\n",
    "matplotlib.use('Agg')\n",
    "import matplotlib.pyplot as plt\n",
    "\n",
    "import numpy as np\n",
    "np.warnings.filterwarnings('ignore')\n",
    "\n",
    "%matplotlib inline\n",
    "np.random.seed(1)\n",
    "\n",
    "# desired miscoverage error\n",
    "alpha = 0.1\n",
    "# low and high target quantiles\n",
    "quantiles = [5, 95]\n",
    "\n",
    "\n",
    "\n",
    "# parameters of random forests\n",
    "n_estimators = 50\n",
    "min_samples_leaf = 1\n",
    "max_features = x_train.shape[1] # 1D signal\n",
    "random_state = 1"
   ]
  },
  {
   "cell_type": "code",
   "execution_count": null,
   "metadata": {
    "id": "3aD-mFfJsGjU"
   },
   "outputs": [],
   "source": [
    "# number of training examples\n",
    "n_train = x_train.shape[0]\n",
    "# number of test examples (to evaluate average coverage and length)\n",
    "n_test = x_test.shape[0]\n"
   ]
  },
  {
   "cell_type": "markdown",
   "metadata": {
    "id": "iAjhdnMHsGjU"
   },
   "source": [
    "\n",
    "## CQR: Conformalized quantile regression\n",
    "\n",
    "We begin by splitting the data into a proper training set, indexed by $I_1$, and a calibration set, indexed by $I_2$. "
   ]
  },
  {
   "cell_type": "code",
   "execution_count": null,
   "metadata": {
    "id": "K_Js_MLpsGjU"
   },
   "outputs": [],
   "source": [
    "# divide the data into proper training set and calibration set\n",
    "idx = np.random.permutation(n_train)\n",
    "n_half = int(np.floor(n_train/2))\n",
    "idx_train, idx_cal = idx[:n_half], idx[n_half:2*n_half]"
   ]
  },
  {
   "cell_type": "markdown",
   "metadata": {
    "id": "MJU38ocKsGjU"
   },
   "source": [
    "Given any quantile regression algorithm $\\mathcal{A}$ (the function `QuantileForestRegressorAdapter` in the code below), we then fit two conditional quantile functions $\\hat{q}_{\\alpha_{lo}}$ and $\\hat{q}_{\\alpha_{hi}}$ on the proper training set: $$ \\{ \\hat{q}_{\\alpha_{lo}}, \\hat{q}_{\\alpha_{hi}} \\} \\leftarrow \\mathcal{A}(\\left\\lbrace (X_i, Y_i): i \\in I_1 \\right\\rbrace). $$\n",
    "This is done by calling the function `icp.fit`.\n",
    "\n",
    "In the essential next step, the function `icp.calibrate` computes conformity scores (using `QuantileRegErrFunc`) that quantify the error made by the plug-in prediction interval $ \\hat{C}(x) = [\\hat{q}_{\\alpha_{lo}}(x), \\ \\hat{q}_{\\alpha_{hi}}(x)]  $. The scores are evaluated on the calibration set as\n",
    "$$\n",
    "\tE_i := \\max\\{\\hat{q}_{\\alpha_{lo}}(X_i) - Y_i, Y_i - \\hat{q}_{\\alpha_{hi}}(X_i)\\},\n",
    "$$\n",
    "for each $i \\in I_2$. The conformity score $E_i$ has the following interpretation. If $Y_i$ is below the lower endpoint of the interval, $Y_i < \\hat{q}_{\\alpha_{lo}}(X_i)$, then $E_i = |Y_i - \\hat{q}_{\\alpha_{lo}}(X_i)|$ is the magnitude of the error incurred by this mistake. Similarly, if $Y_i$ is above the upper endpoint of the interval, $Y_i > \\hat{q}_{\\alpha_{hi}}(X_i)$, then $E_i = |Y_i - \\hat{q}_{\\alpha_{hi}}(X_i)|$. Finally, if $Y_i$ correctly belongs to the interval, $\\hat{q}_{\\alpha_{lo}}(X_i) \\leq Y_i \\leq \\hat{q}_{\\alpha_{hi}}(X_i)$, then $E_i$ is the larger of the two non-positive numbers $\\hat{q}_{\\alpha_{lo}}(X_i) - Y_i$ and $Y_i - \\hat{q}_{\\alpha_{hi}}(X_i)$ and so is itself non-positive. The conformity score thus accounts for both undercoverage and overcoverage.\n",
    "\n",
    "Finally, given new input data $X_{n+1}$, we construct the prediction interval for $Y_{n+1}$ as\n",
    "$$\n",
    "C(X_{n+1}) = \\left[ \\hat{q}_{\\alpha_{lo}}(X_{n+1}) - Q_{1-\\alpha}(E, I_2) , \\ \\hat{q}_{\\alpha_{hi}}(X_{n+1}) + Q_{1-\\alpha}(E, I_2) \\right],\n",
    "$$\n",
    "where \n",
    "$$\n",
    "Q_{1-\\alpha}(E, I_2) :=  (1-\\alpha)(1+1/|I_2|)\\text{-th empirical quantile of} \\left\\{E_i : i \\in I_2\\right\\}\n",
    "$$\n",
    "conformalizes the plug-in prediction interval. This is done by calling the function `icp.predict`."
   ]
  },
  {
   "cell_type": "code",
   "execution_count": null,
   "metadata": {
    "colab": {
     "base_uri": "https://localhost:8080/"
    },
    "id": "SRV5990XsGjU",
    "outputId": "c78a3f47-075b-4993-b802-89daf5e82a3d"
   },
   "outputs": [
    {
     "name": "stdout",
     "output_type": "stream",
     "text": [
      "CQR Random Forests: Percentage in the range (expecting 90.0%): 92.07459207459208\n",
      "CQR Random Forests: Average length: 20.388349274607396\n"
     ]
    }
   ],
   "source": [
    "from cqr import helper\n",
    "from nonconformist.nc import RegressorNc\n",
    "from nonconformist.cp import IcpRegressor\n",
    "from nonconformist.nc import QuantileRegErrFunc\n",
    "\n",
    "# define quantile random forests (QRF) parameters\n",
    "params_qforest = dict()\n",
    "params_qforest[\"n_estimators\"] = n_estimators\n",
    "params_qforest[\"min_samples_leaf\"] = min_samples_leaf\n",
    "params_qforest[\"max_features\"] = max_features\n",
    "params_qforest[\"CV\"] = True\n",
    "params_qforest[\"coverage_factor\"] = 0.9\n",
    "params_qforest[\"test_ratio\"] = 0.05\n",
    "params_qforest[\"random_state\"] = random_state\n",
    "params_qforest[\"range_vals\"] = 30\n",
    "params_qforest[\"num_vals\"] = 10\n",
    "\n",
    "# define the QRF model\n",
    "quantile_estimator = helper.QuantileForestRegressorAdapter(model=None,\n",
    "                                                           fit_params=None,\n",
    "                                                           quantiles=quantiles,\n",
    "                                                           params=params_qforest)\n",
    "\n",
    "# define the CQR object, computing the absolute residual error of points \n",
    "# located outside the estimated QRF band \n",
    "nc = RegressorNc(quantile_estimator, QuantileRegErrFunc())\n",
    "\n",
    "# build the split CQR object\n",
    "icp = IcpRegressor(nc)\n",
    "\n",
    "# fit the conditional quantile regression to the proper training data\n",
    "icp.fit(x_train[idx_train], y_train[idx_train])\n",
    "\n",
    "# compute the absolute errors on calibration data\n",
    "icp.calibrate(x_train[idx_cal], y_train[idx_cal])\n",
    "\n",
    "# produce predictions for the test set, with confidence equal to significance\n",
    "predictions = icp.predict(x_test, significance=alpha)\n",
    "y_lower = predictions[:,0]\n",
    "y_upper = predictions[:,1]\n",
    "\n",
    "# compute the low and high conditional quantile estimation\n",
    "pred = quantile_estimator.predict(x_test)\n",
    "\n",
    "# display the results\n",
    "#plot_func(x=x_test,y=y_test,y_u=y_upper,y_l=y_lower,pred=pred,shade_color=cqr_color,\n",
    "#          method_name=\"CQR:\",title=\"CQR Random Forests (quantile regression)\",\n",
    "#          filename=\"illustration_split_qrf.png\",save_figures=save_figures)\n",
    "\n",
    "# compute and display the average coverage\n",
    "in_the_range = np.sum((y_test >= y_lower) & (y_test <= y_upper))\n",
    "print(\"CQR Random Forests: Percentage in the range (expecting \" + str(100*(1-alpha)) + \"%):\",\n",
    "      in_the_range / len(y_test) * 100)\n",
    "\n",
    "# compute length of the conformal interval per each test point\n",
    "length_cqr_rf = y_upper - y_lower\n",
    "\n",
    "# compute and display the average length\n",
    "print(\"CQR Random Forests: Average length:\", np.mean(length_cqr_rf))"
   ]
  },
  {
   "cell_type": "code",
   "execution_count": null,
   "metadata": {
    "colab": {
     "base_uri": "https://localhost:8080/",
     "height": 513
    },
    "id": "CuPRZcVQo3sM",
    "outputId": "5883af70-faff-442f-e7f9-c3f6334df263"
   },
   "outputs": [
    {
     "data": {
      "image/png": "[encoded data removed]",
      "text/plain": [
       "<Figure size 2160x1080 with 1 Axes>"
      ]
     },
     "metadata": {
      "needs_background": "light",
      "tags": []
     },
     "output_type": "display_data"
    }
   ],
   "source": [
    "import matplotlib.pyplot as plt\n",
    "\n",
    "x = np.arange(20,50)\n",
    "plt.figure(figsize=(30,15))\n",
    "plt.plot(x,y_test[20:50],'ro',markersize=12)\n",
    "plt.plot(x,y_lower[20:50],'go',markersize = 8)\n",
    "plt.plot(x,y_upper[20:50],'bo',markersize = 6)\n",
    "\n",
    "\n",
    "plt.show()"
   ]
  },
  {
   "cell_type": "markdown",
   "metadata": {
    "id": "Qq9hTA4gsGjV"
   },
   "source": [
    " CQR obtained valid prediction interval. \n",
    "\n",
    "We now turn to compare the efficiency (average length) of our CQR method to the split conformal and its locally adaptive variant.\n",
    "\n",
    "## Split conformal\n",
    "\n",
    "In this section we implement the usual split conformal method. Specifically, we use the proper training and calibration subsets; train a random forest regressor on the first set, and calibrate the intervals on the second set by computing the absolute residual error. Notice that the random forests regressor **estimates the conditional mean** of $Y_i$ given $X_i=x$."
   ]
  },
  {
   "cell_type": "code",
   "execution_count": null,
   "metadata": {
    "colab": {
     "base_uri": "https://localhost:8080/"
    },
    "id": "R9kEshjYsGjV",
    "outputId": "e85f5eba-3533-4c0a-feae-6ffb0d336a35"
   },
   "outputs": [
    {
     "name": "stdout",
     "output_type": "stream",
     "text": [
      "Random Forests: Percentage in the range (expecting 90.0%): 90.03496503496503\n",
      "Random Forests: Average length: 3.5200000000005014\n"
     ]
    }
   ],
   "source": [
    "from sklearn.ensemble import RandomForestRegressor\n",
    "from nonconformist.nc import RegressorNormalizer\n",
    "from nonconformist.nc import AbsErrorErrFunc\n",
    "\n",
    "# define the conditonal mean estimator as random forests\n",
    "mean_estimator = RandomForestRegressor(n_estimators=n_estimators,\n",
    "                                       min_samples_leaf=min_samples_leaf,\n",
    "                                       max_features=max_features,\n",
    "                                       random_state=random_state)\n",
    "\n",
    "# define a conformal prediction object \n",
    "nc = RegressorNc(mean_estimator, AbsErrorErrFunc())\n",
    "\n",
    "# build a regualr split conformal prediction object \n",
    "icp = IcpRegressor(nc)\n",
    "\n",
    "# fit the conditional mean regression to the proper training data\n",
    "icp.fit(x_train[idx_train], y_train[idx_train])\n",
    "\n",
    "# compute the absolute residual error on calibration data\n",
    "icp.calibrate(x_train[idx_cal], y_train[idx_cal])\n",
    "\n",
    "# produce predictions for the test set, with confidence equal to significance\n",
    "predictions = icp.predict(x_test, significance=alpha)\n",
    "y_lower = predictions[:,0]\n",
    "y_upper = predictions[:,1]\n",
    "\n",
    "# compute the conditional mean estimation\n",
    "pred = mean_estimator.predict(x_test)\n",
    "\n",
    "# display the results\n",
    "#plot_func(x=x_test,y=y_test,y_u=y_upper,y_l=y_lower,pred=pred,shade_color=split_color,\n",
    "#          method_name=\"Split:\",title=\"Random Forests (mean regression)\",\n",
    "#          filename=\"illustration_split_rf.png\",save_figures=save_figures)\n",
    "\n",
    "# compute and display the average coverage\n",
    "in_the_range = np.sum((y_test >= y_lower) & (y_test <= y_upper))\n",
    "print(\"Random Forests: Percentage in the range (expecting \" + str(100*(1-alpha)) + \"%):\",\n",
    "      in_the_range / len(y_test) * 100)\n",
    "\n",
    "# compute length of the interval per each test point\n",
    "length_split_rf = y_upper - y_lower\n",
    "\n",
    "# compute and display the average length\n",
    "print(\"Random Forests: Average length:\", np.mean(length_split_rf))"
   ]
  },
  {
   "cell_type": "code",
   "execution_count": null,
   "metadata": {
    "colab": {
     "base_uri": "https://localhost:8080/",
     "height": 513
    },
    "id": "iGlkfu-_BuKu",
    "outputId": "db88770f-9ec9-4295-bdc4-22149f868486"
   },
   "outputs": [
    {
     "data": {
      "image/png": "[encoded data removed]",
      "text/plain": [
       "<Figure size 2160x1080 with 1 Axes>"
      ]
     },
     "metadata": {
      "needs_background": "light",
      "tags": []
     },
     "output_type": "display_data"
    }
   ],
   "source": [
    "import matplotlib.pyplot as plt\n",
    "\n",
    "x = np.arange(20,50)\n",
    "plt.figure(figsize=(30,15))\n",
    "plt.plot(x,y_test[20:50],'ro',markersize=12)\n",
    "plt.plot(x,y_lower[20:50],'go',markersize = 8)\n",
    "plt.plot(x,y_upper[20:50],'bo',markersize = 6)\n",
    "\n",
    "\n",
    "plt.show()"
   ]
  },
  {
   "cell_type": "markdown",
   "metadata": {
    "id": "uOb9UWWQsGjV"
   },
   "source": [
    " Notice that the average length of the constructed interval is greater than the one obtained by CQR.\n",
    "\n",
    "\n",
    "## Local conformal\n",
    "\n",
    "In this section we implement a well-known variant of the locally weighted split conformal method [3], aiming at constructing adaptive intervals. As in the usual split conformal, this method fits a **conditional mean regression function** to the proper training set (formulated as random forest regressor). In the next step, the locally weighted method fits another (second conditional mean regressor) random forests model to the absolute residuals of the proper training set (MAD estimator), this in order to scale the future test residuals. Just as before, the calibration set is used to construct the conformal interval."
   ]
  },
  {
   "cell_type": "code",
   "execution_count": null,
   "metadata": {
    "colab": {
     "base_uri": "https://localhost:8080/"
    },
    "id": "M9sRbW8-sGjV",
    "outputId": "844f24e0-3b21-4141-c108-8d271f498b07"
   },
   "outputs": [
    {
     "name": "stdout",
     "output_type": "stream",
     "text": [
      "Local Random Forests: Percentage in the range (expecting 90.0%): 89.91841491841492\n",
      "Local Random Forests: Average length: 22.417516049985025\n"
     ]
    }
   ],
   "source": [
    "# define the conditonal mean estimator as random forests (used to predict the labels)\n",
    "mean_estimator = RandomForestRegressor(n_estimators=n_estimators,\n",
    "                                       min_samples_leaf=min_samples_leaf,\n",
    "                                       max_features=max_features,\n",
    "                                       random_state=random_state)\n",
    "\n",
    "# define the MAD estimator as random forests (used to scale the absolute residuals)\n",
    "mad_estimator = RandomForestRegressor(n_estimators=n_estimators,\n",
    "                                      min_samples_leaf=min_samples_leaf,\n",
    "                                      max_features=max_features,\n",
    "                                      random_state=random_state)\n",
    "\n",
    "# define a conformal normalizer object that uses the two regression functions.\n",
    "# The nonconformity score is absolute residual error\n",
    "normalizer = RegressorNormalizer(mean_estimator,\n",
    "                                 mad_estimator,\n",
    "                                 AbsErrorErrFunc())\n",
    "\n",
    "# define the final local conformal object \n",
    "nc = RegressorNc(mean_estimator, AbsErrorErrFunc(), normalizer)\n",
    "\n",
    "# build the split local conformal object\n",
    "icp = IcpRegressor(nc)\n",
    "\n",
    "# fit the conditional mean and MAD models to proper training data\n",
    "icp.fit(x_train[idx_train], y_train[idx_train])\n",
    "\n",
    "# compute the absolute residual error on calibration data\n",
    "icp.calibrate(x_train[idx_cal], y_train[idx_cal])\n",
    "\n",
    "# produce predictions for the test set, with confidence equal to significance\n",
    "predictions = icp.predict(x_test, significance=alpha)\n",
    "\n",
    "# extract the lower and upper bound of the prediction interval\n",
    "y_lower = predictions[:,0]\n",
    "y_upper = predictions[:,1]\n",
    "\n",
    "# compute the conditional mean estimation\n",
    "pred = mean_estimator.predict(x_test)\n",
    "\n",
    "\n",
    "# compute and display the average coverage\n",
    "in_the_range = np.sum((y_test >= y_lower) & (y_test <= y_upper))\n",
    "print(\"Local Random Forests: Percentage in the range (expecting \" + str(100*(1-alpha)) + \"%):\",\n",
    "      in_the_range / len(y_test) * 100)\n",
    "\n",
    "# compute length of the interval per each test point\n",
    "length_local_rf = y_upper - y_lower\n",
    "\n",
    "# compute and display the average length\n",
    "print(\"Local Random Forests: Average length:\", np.mean(length_local_rf))"
   ]
  },
  {
   "cell_type": "code",
   "execution_count": null,
   "metadata": {
    "colab": {
     "base_uri": "https://localhost:8080/",
     "height": 621
    },
    "id": "rUptCBlZBuz2",
    "outputId": "3c8cdce7-671e-4466-8edd-c91d2117ab07"
   },
   "outputs": [
    {
     "data": {
      "image/png": "[encoded data removed]",
      "text/plain": [
       "<Figure size 2160x1080 with 1 Axes>"
      ]
     },
     "metadata": {
      "needs_background": "light",
      "tags": []
     },
     "output_type": "display_data"
    }
   ],
   "source": [
    "import matplotlib.pyplot as plt\n",
    "\n",
    "x = np.arange(20,50)\n",
    "plt.figure(figsize=(30,15))\n",
    "plt.plot(x,y_test[20:50],'ro',markersize=12)\n",
    "plt.plot(x,y_lower[20:50],'go',markersize = 8)\n",
    "plt.plot(x,y_upper[20:50],'bo',markersize = 6)\n",
    "\n",
    "\n",
    "plt.show()"
   ]
  },
  {
   "cell_type": "markdown",
   "metadata": {
    "id": "EvLMB70esGjV"
   },
   "source": [
    "The prediction intervals constructed by the local split conformal also achieves valid coverage. The intervals are partially adaptive, resulting in slightly shorter intervals than the usual split conformal, but inferior than the ones obtained by CQR.\n"
   ]
  },
  {
   "cell_type": "markdown",
   "metadata": {
    "id": "j8GXbCsLsGjV"
   },
   "source": [
    "## Local conformal with median regression\n",
    "\n",
    "To improve robustness to outliers, one might try to estimate the conditional median instead of the conditional mean in locally adaptive conformal prediction. The residuals are scaled in the usual way, by classical regression via random forests. We implement this strategy in the following section."
   ]
  },
  {
   "cell_type": "code",
   "execution_count": null,
   "metadata": {
    "colab": {
     "base_uri": "https://localhost:8080/"
    },
    "id": "duMzpEDNsGjV",
    "outputId": "4d2093b9-0fa5-489c-b437-429d29024e25"
   },
   "outputs": [
    {
     "name": "stdout",
     "output_type": "stream",
     "text": [
      "Local Median Random Forests: Percentage in the range (expecting 90.0%): 89.73526473526474\n",
      "Local Median Random Forests: Average length: 25.33538277362022\n"
     ]
    }
   ],
   "source": [
    "from skgarden import RandomForestQuantileRegressor\n",
    "from nonconformist.base import RegressorAdapter\n",
    "\n",
    "# replace conditional mean by conditional median estimator\n",
    "class MedianRegressorAdapter(RegressorAdapter):\n",
    "    \"\"\" Conditional median estimator, defined as quantile random forests (QRF)\n",
    "    \n",
    "    References\n",
    "    ----------\n",
    "    .. [1]  Meinshausen, Nicolai. \"Quantile regression forests.\"\n",
    "            Journal of Machine Learning Research 7.Jun (2006): 983-999.\n",
    "                \n",
    "    \"\"\"\n",
    "    def __init__(self, model, fit_params=None, quantiles=[50], params=None):\n",
    "        super(MedianRegressorAdapter, self).__init__(model, fit_params)\n",
    "        # Instantiate model\n",
    "        self.quantiles = quantiles\n",
    "        self.cv_quantiles = self.quantiles\n",
    "        self.params = params\n",
    "        self.rfqr = RandomForestQuantileRegressor(random_state=params[\"random_state\"],\n",
    "                                                  min_samples_leaf=params[\"min_samples_leaf\"],\n",
    "                                                  n_estimators=params[\"n_estimators\"],\n",
    "                                                  max_features=params[\"max_features\"])\n",
    "        \n",
    "    def fit(self, x, y):\n",
    "        self.rfqr.fit(x, y)\n",
    "    \n",
    "    def predict(self, x):\n",
    "        return self.rfqr.predict(x, quantile=50)\n",
    "\n",
    "# define the conditional median model as random forests regressor (used to predict the labels)\n",
    "median_estimator = MedianRegressorAdapter(model=None,\n",
    "                                          fit_params=None,\n",
    "                                          quantiles=[50],\n",
    "                                          params=params_qforest)\n",
    "\n",
    "# define the MAD estimator as usual (mean) random forests regressor (used to scale the absolute residuals)\n",
    "mad_estimator = RandomForestRegressor(n_estimators=n_estimators,\n",
    "                                      min_samples_leaf=min_samples_leaf,\n",
    "                                      max_features=max_features,\n",
    "                                      random_state=random_state)\n",
    "\n",
    "# define a conformal normalizer object that uses the two regression functions.\n",
    "# The nonconformity score is absolute residual error\n",
    "normalizer = RegressorNormalizer(median_estimator,\n",
    "                                 mad_estimator,\n",
    "                                 AbsErrorErrFunc())\n",
    "\n",
    "# define the final local conformal object \n",
    "nc = RegressorNc(median_estimator, AbsErrorErrFunc(), normalizer)\n",
    "\n",
    "# build the split local conformal object\n",
    "icp = IcpRegressor(nc)\n",
    "\n",
    "# fit the conditional mean and usual MAD models to proper training data\n",
    "icp.fit(x_train[idx_train], y_train[idx_train])\n",
    "\n",
    "# compute the absolute residual error on calibration data\n",
    "icp.calibrate(x_train[idx_cal], y_train[idx_cal])\n",
    "\n",
    "# produce predictions for the test set, with confidence equal to significance\n",
    "predictions = icp.predict(x_test, significance=alpha)\n",
    "y_lower = predictions[:,0]\n",
    "y_upper = predictions[:,1]\n",
    "\n",
    "# compute the conditional median estimation\n",
    "pred = median_estimator.predict(x_test)\n",
    "\n",
    "# display the results\n",
    "#plot_func(x=x_test,y=y_test,y_u=y_upper,y_l=y_lower,pred=pred,shade_color=local_color,\n",
    "#          method_name=\"Local (median):\",title=\"Random Forests Local (median regression)\",\n",
    "#          filename=\"illustration_split_local_median_rf.png\",save_figures=save_figures)\n",
    "\n",
    "# compute and display the average coverage\n",
    "in_the_range = np.sum((y_test >= y_lower) & (y_test <= y_upper))\n",
    "print(\"Local Median Random Forests: Percentage in the range (expecting \" + str(100*(1-alpha)) + \"%):\",\n",
    "      in_the_range / len(y_test) * 100)\n",
    "\n",
    "# compute and display the average length\n",
    "print(\"Local Median Random Forests: Average length:\", np.mean(y_upper - y_lower))"
   ]
  },
  {
   "cell_type": "code",
   "execution_count": null,
   "metadata": {
    "colab": {
     "base_uri": "https://localhost:8080/",
     "height": 513
    },
    "id": "zydxqrVWBwGU",
    "outputId": "79603c13-3b74-436b-87af-e82ac4933b8b"
   },
   "outputs": [
    {
     "data": {
      "image/png": "[encoded data removed]",
      "text/plain": [
       "<Figure size 2160x1080 with 1 Axes>"
      ]
     },
     "metadata": {
      "needs_background": "light",
      "tags": []
     },
     "output_type": "display_data"
    }
   ],
   "source": [
    "import matplotlib.pyplot as plt\n",
    "\n",
    "x = np.arange(20,50)\n",
    "plt.figure(figsize=(30,15))\n",
    "plt.plot(x,y_test[20:50],'ro',markersize=12)\n",
    "plt.plot(x,y_lower[20:50],'go',markersize = 8)\n",
    "plt.plot(x,y_upper[20:50],'bo',markersize = 6)\n",
    "\n",
    "\n",
    "plt.show()"
   ]
  }
 ],
 "metadata": {
  "colab": {
   "collapsed_sections": [],
   "name": "RP_cqr_with_related_work_example.ipynb",
   "provenance": [],
   "toc_visible": true
  },
  "kernelspec": {
   "display_name": "Python 3",
   "language": "python",
   "name": "python3"
  },
  "language_info": {
   "codemirror_mode": {
    "name": "ipython",
    "version": 3
   },
   "file_extension": ".py",
   "mimetype": "text/x-python",
   "name": "python",
   "nbconvert_exporter": "python",
   "pygments_lexer": "ipython3",
   "version": "3.7.4"
  }
 },
 "nbformat": 4,
 "nbformat_minor": 1
}
